{
 "cells": [
  {
   "cell_type": "code",
   "execution_count": 1,
   "metadata": {},
   "outputs": [],
   "source": [
    "import numpy as np"
   ]
  },
  {
   "cell_type": "code",
   "execution_count": 4,
   "metadata": {},
   "outputs": [],
   "source": [
    "def f_padd(I,p):\n",
    "    numRows = I.shape[0]\n",
    "    numCols = I.shape[1]\n",
    "    zeroRows = np.zeros((p,numCols))\n",
    "    I = np.vstack((zeroRows,I))\n",
    "    I = np.vstack((I,zeroRows))\n",
    "    zeroCols = np.zeros((numRows+2*p,p))\n",
    "    I = np.hstack((zeroCols,I))\n",
    "    I = np.hstack((I,zeroCols))\n",
    "    return I"
   ]
  },
  {
   "cell_type": "code",
   "execution_count": 7,
   "metadata": {},
   "outputs": [],
   "source": [
    "def f_conv2d(I,K,p):\n",
    "    fSize = K.shape[0]\n",
    "    I2 = f_padd(I,p)\n",
    "    numRows = I2.shape[0]\n",
    "    numCols = I2.shape[1]\n",
    "    C = np.zeros((numRows-2*p,numCols-2*p))\n",
    "    for i in range(numRows-fSize+1):\n",
    "        for j in range(numCols-fSize+1):\n",
    "            A = I2[i:i+fSize,j:j+fSize]\n",
    "            C[i,j] = (A.flatten()*K.flatten()).sum()\n",
    "    return C\n",
    "    "
   ]
  },
  {
   "cell_type": "code",
   "execution_count": 15,
   "metadata": {},
   "outputs": [],
   "source": [
    "def f_ReLU(C):\n",
    "    C[C<0] = 0\n",
    "    return C"
   ]
  },
  {
   "cell_type": "code",
   "execution_count": 22,
   "metadata": {},
   "outputs": [],
   "source": [
    "def f_pool(C):\n",
    "    r = C.shape[0]\n",
    "    c = C.shape[1]\n",
    "    S = np.zeros((int(r/2),int(c/2)))\n",
    "    for i in range(0,r,2):\n",
    "        for j in range(0,c,2):\n",
    "            S[int(i/2),int(j/2)] = C[i:i+2,j:j+2].max()\n",
    "    return S"
   ]
  },
  {
   "cell_type": "code",
   "execution_count": 23,
   "metadata": {},
   "outputs": [],
   "source": [
    "I = np.random.randint(1,5,(32,32))\n",
    "K = np.ones((5,5))\n",
    "p = int(K.shape[0]/2)\n",
    "C = f_conv2d(I,K,p)\n",
    "b = np.random.randint(0,5)\n",
    "C = C+b\n",
    "C = f_ReLU(C)\n",
    "S = f_pool(C)"
   ]
  },
  {
   "cell_type": "code",
   "execution_count": 24,
   "metadata": {},
   "outputs": [
    {
     "data": {
      "text/plain": [
       "(16, 16)"
      ]
     },
     "execution_count": 24,
     "metadata": {},
     "output_type": "execute_result"
    }
   ],
   "source": [
    "S.shape"
   ]
  },
  {
   "cell_type": "code",
   "execution_count": 10,
   "metadata": {},
   "outputs": [
    {
     "data": {
      "text/plain": [
       "(5, 5)"
      ]
     },
     "execution_count": 10,
     "metadata": {},
     "output_type": "execute_result"
    }
   ],
   "source": [
    "C.shape"
   ]
  },
  {
   "cell_type": "code",
   "execution_count": 11,
   "metadata": {},
   "outputs": [
    {
     "data": {
      "text/plain": [
       "array([[11., 16., 20., 16., 11.],\n",
       "       [16., 24., 31., 27., 19.],\n",
       "       [17., 24., 27., 23., 16.],\n",
       "       [17., 22., 24., 23., 18.],\n",
       "       [12., 14., 13., 12., 10.]])"
      ]
     },
     "execution_count": 11,
     "metadata": {},
     "output_type": "execute_result"
    }
   ],
   "source": [
    "C"
   ]
  },
  {
   "cell_type": "code",
   "execution_count": null,
   "metadata": {},
   "outputs": [],
   "source": []
  }
 ],
 "metadata": {
  "kernelspec": {
   "display_name": "Python 3",
   "language": "python",
   "name": "python3"
  },
  "language_info": {
   "codemirror_mode": {
    "name": "ipython",
    "version": 3
   },
   "file_extension": ".py",
   "mimetype": "text/x-python",
   "name": "python",
   "nbconvert_exporter": "python",
   "pygments_lexer": "ipython3",
   "version": "3.7.6"
  }
 },
 "nbformat": 4,
 "nbformat_minor": 4
}
